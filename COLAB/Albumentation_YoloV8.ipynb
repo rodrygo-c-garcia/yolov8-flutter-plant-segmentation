{
  "nbformat": 4,
  "nbformat_minor": 0,
  "metadata": {
    "colab": {
      "provenance": [],
      "gpuType": "T4"
    },
    "kernelspec": {
      "name": "python3",
      "display_name": "Python 3"
    },
    "language_info": {
      "name": "python"
    },
    "accelerator": "GPU"
  },
  "cells": [
    {
      "cell_type": "markdown",
      "source": [
        "by **Ariel Rodrigo Colque Garcia**\n"
      ],
      "metadata": {
        "id": "vPRPIQQk4E-T"
      }
    },
    {
      "cell_type": "code",
      "source": [
        "!nvidia-smi"
      ],
      "metadata": {
        "id": "A21jeXlb-4o_"
      },
      "execution_count": null,
      "outputs": []
    },
    {
      "cell_type": "code",
      "execution_count": null,
      "metadata": {
        "colab": {
          "base_uri": "https://localhost:8080/"
        },
        "id": "Ns5UHhi0269U",
        "outputId": "7af9191e-5ba2-4a41-f498-d1e37043731c"
      },
      "outputs": [
        {
          "output_type": "stream",
          "name": "stdout",
          "text": [
            "Ultralytics YOLOv8.0.225 🚀 Python-3.10.12 torch-2.1.0+cu118 CPU (Intel Xeon 2.20GHz)\n",
            "Setup complete ✅ (2 CPUs, 12.7 GB RAM, 26.9/107.7 GB disk)\n"
          ]
        }
      ],
      "source": [
        "%pip install ultralytics\n",
        "import ultralytics\n",
        "ultralytics.checks()"
      ]
    },
    {
      "cell_type": "code",
      "source": [
        "!pip install roboflow"
      ],
      "metadata": {
        "colab": {
          "base_uri": "https://localhost:8080/",
          "height": 1000
        },
        "id": "jfw8Nl4Z3KJg",
        "outputId": "66f08617-a6a9-48a6-9f81-a073e5ada7a5"
      },
      "execution_count": null,
      "outputs": [
        {
          "output_type": "stream",
          "name": "stdout",
          "text": [
            "Collecting roboflow\n",
            "  Downloading roboflow-1.1.12-py3-none-any.whl (68 kB)\n",
            "\u001b[?25l     \u001b[90m━━━━━━━━━━━━━━━━━━━━━━━━━━━━━━━━━━━━━━━━\u001b[0m \u001b[32m0.0/68.5 kB\u001b[0m \u001b[31m?\u001b[0m eta \u001b[36m-:--:--\u001b[0m\r\u001b[2K     \u001b[90m━━━━━━━━━━━━━━━━━━━━━━━━━━━━━━━━━━━━━━━━\u001b[0m \u001b[32m68.5/68.5 kB\u001b[0m \u001b[31m1.8 MB/s\u001b[0m eta \u001b[36m0:00:00\u001b[0m\n",
            "\u001b[?25hCollecting certifi==2023.7.22 (from roboflow)\n",
            "  Downloading certifi-2023.7.22-py3-none-any.whl (158 kB)\n",
            "\u001b[2K     \u001b[90m━━━━━━━━━━━━━━━━━━━━━━━━━━━━━━━━━━━━━━━━\u001b[0m \u001b[32m158.3/158.3 kB\u001b[0m \u001b[31m8.9 MB/s\u001b[0m eta \u001b[36m0:00:00\u001b[0m\n",
            "\u001b[?25hCollecting chardet==4.0.0 (from roboflow)\n",
            "  Downloading chardet-4.0.0-py2.py3-none-any.whl (178 kB)\n",
            "\u001b[2K     \u001b[90m━━━━━━━━━━━━━━━━━━━━━━━━━━━━━━━━━━━━━━━━\u001b[0m \u001b[32m178.7/178.7 kB\u001b[0m \u001b[31m17.7 MB/s\u001b[0m eta \u001b[36m0:00:00\u001b[0m\n",
            "\u001b[?25hCollecting cycler==0.10.0 (from roboflow)\n",
            "  Downloading cycler-0.10.0-py2.py3-none-any.whl (6.5 kB)\n",
            "Collecting idna==2.10 (from roboflow)\n",
            "  Downloading idna-2.10-py2.py3-none-any.whl (58 kB)\n",
            "\u001b[2K     \u001b[90m━━━━━━━━━━━━━━━━━━━━━━━━━━━━━━━━━━━━━━━━\u001b[0m \u001b[32m58.8/58.8 kB\u001b[0m \u001b[31m8.1 MB/s\u001b[0m eta \u001b[36m0:00:00\u001b[0m\n",
            "\u001b[?25hRequirement already satisfied: kiwisolver>=1.3.1 in /usr/local/lib/python3.10/dist-packages (from roboflow) (1.4.5)\n",
            "Requirement already satisfied: matplotlib in /usr/local/lib/python3.10/dist-packages (from roboflow) (3.7.1)\n",
            "Requirement already satisfied: numpy>=1.18.5 in /usr/local/lib/python3.10/dist-packages (from roboflow) (1.23.5)\n",
            "Collecting opencv-python-headless==4.8.0.74 (from roboflow)\n",
            "  Downloading opencv_python_headless-4.8.0.74-cp37-abi3-manylinux_2_17_x86_64.manylinux2014_x86_64.whl (49.1 MB)\n",
            "\u001b[2K     \u001b[90m━━━━━━━━━━━━━━━━━━━━━━━━━━━━━━━━━━━━━━━━\u001b[0m \u001b[32m49.1/49.1 MB\u001b[0m \u001b[31m17.4 MB/s\u001b[0m eta \u001b[36m0:00:00\u001b[0m\n",
            "\u001b[?25hRequirement already satisfied: Pillow>=7.1.2 in /usr/local/lib/python3.10/dist-packages (from roboflow) (9.4.0)\n",
            "Collecting pyparsing==2.4.7 (from roboflow)\n",
            "  Downloading pyparsing-2.4.7-py2.py3-none-any.whl (67 kB)\n",
            "\u001b[2K     \u001b[90m━━━━━━━━━━━━━━━━━━━━━━━━━━━━━━━━━━━━━━━━\u001b[0m \u001b[32m67.8/67.8 kB\u001b[0m \u001b[31m9.9 MB/s\u001b[0m eta \u001b[36m0:00:00\u001b[0m\n",
            "\u001b[?25hRequirement already satisfied: python-dateutil in /usr/local/lib/python3.10/dist-packages (from roboflow) (2.8.2)\n",
            "Collecting python-dotenv (from roboflow)\n",
            "  Downloading python_dotenv-1.0.0-py3-none-any.whl (19 kB)\n",
            "Requirement already satisfied: requests in /usr/local/lib/python3.10/dist-packages (from roboflow) (2.31.0)\n",
            "Requirement already satisfied: six in /usr/local/lib/python3.10/dist-packages (from roboflow) (1.16.0)\n",
            "Collecting supervision (from roboflow)\n",
            "  Downloading supervision-0.17.1-py3-none-any.whl (77 kB)\n",
            "\u001b[2K     \u001b[90m━━━━━━━━━━━━━━━━━━━━━━━━━━━━━━━━━━━━━━━━\u001b[0m \u001b[32m77.5/77.5 kB\u001b[0m \u001b[31m11.5 MB/s\u001b[0m eta \u001b[36m0:00:00\u001b[0m\n",
            "\u001b[?25hRequirement already satisfied: urllib3>=1.26.6 in /usr/local/lib/python3.10/dist-packages (from roboflow) (2.0.7)\n",
            "Requirement already satisfied: tqdm>=4.41.0 in /usr/local/lib/python3.10/dist-packages (from roboflow) (4.66.1)\n",
            "Requirement already satisfied: PyYAML>=5.3.1 in /usr/local/lib/python3.10/dist-packages (from roboflow) (6.0.1)\n",
            "Collecting requests-toolbelt (from roboflow)\n",
            "  Downloading requests_toolbelt-1.0.0-py2.py3-none-any.whl (54 kB)\n",
            "\u001b[2K     \u001b[90m━━━━━━━━━━━━━━━━━━━━━━━━━━━━━━━━━━━━━━━━\u001b[0m \u001b[32m54.5/54.5 kB\u001b[0m \u001b[31m8.0 MB/s\u001b[0m eta \u001b[36m0:00:00\u001b[0m\n",
            "\u001b[?25hCollecting python-magic (from roboflow)\n",
            "  Downloading python_magic-0.4.27-py2.py3-none-any.whl (13 kB)\n",
            "Requirement already satisfied: contourpy>=1.0.1 in /usr/local/lib/python3.10/dist-packages (from matplotlib->roboflow) (1.2.0)\n",
            "Requirement already satisfied: fonttools>=4.22.0 in /usr/local/lib/python3.10/dist-packages (from matplotlib->roboflow) (4.45.1)\n",
            "Requirement already satisfied: packaging>=20.0 in /usr/local/lib/python3.10/dist-packages (from matplotlib->roboflow) (23.2)\n",
            "Requirement already satisfied: charset-normalizer<4,>=2 in /usr/local/lib/python3.10/dist-packages (from requests->roboflow) (3.3.2)\n",
            "Requirement already satisfied: scipy>=1.9.0 in /usr/local/lib/python3.10/dist-packages (from supervision->roboflow) (1.11.4)\n",
            "Installing collected packages: python-magic, python-dotenv, pyparsing, opencv-python-headless, idna, cycler, chardet, certifi, supervision, requests-toolbelt, roboflow\n",
            "  Attempting uninstall: pyparsing\n",
            "    Found existing installation: pyparsing 3.1.1\n",
            "    Uninstalling pyparsing-3.1.1:\n",
            "      Successfully uninstalled pyparsing-3.1.1\n",
            "  Attempting uninstall: opencv-python-headless\n",
            "    Found existing installation: opencv-python-headless 4.8.1.78\n",
            "    Uninstalling opencv-python-headless-4.8.1.78:\n",
            "      Successfully uninstalled opencv-python-headless-4.8.1.78\n",
            "  Attempting uninstall: idna\n",
            "    Found existing installation: idna 3.6\n",
            "    Uninstalling idna-3.6:\n",
            "      Successfully uninstalled idna-3.6\n",
            "  Attempting uninstall: cycler\n",
            "    Found existing installation: cycler 0.12.1\n",
            "    Uninstalling cycler-0.12.1:\n",
            "      Successfully uninstalled cycler-0.12.1\n",
            "  Attempting uninstall: chardet\n",
            "    Found existing installation: chardet 5.2.0\n",
            "    Uninstalling chardet-5.2.0:\n",
            "      Successfully uninstalled chardet-5.2.0\n",
            "  Attempting uninstall: certifi\n",
            "    Found existing installation: certifi 2023.11.17\n",
            "    Uninstalling certifi-2023.11.17:\n",
            "      Successfully uninstalled certifi-2023.11.17\n",
            "\u001b[31mERROR: pip's dependency resolver does not currently take into account all the packages that are installed. This behaviour is the source of the following dependency conflicts.\n",
            "lida 0.0.10 requires fastapi, which is not installed.\n",
            "lida 0.0.10 requires kaleido, which is not installed.\n",
            "lida 0.0.10 requires python-multipart, which is not installed.\n",
            "lida 0.0.10 requires uvicorn, which is not installed.\u001b[0m\u001b[31m\n",
            "\u001b[0mSuccessfully installed certifi-2023.7.22 chardet-4.0.0 cycler-0.10.0 idna-2.10 opencv-python-headless-4.8.0.74 pyparsing-2.4.7 python-dotenv-1.0.0 python-magic-0.4.27 requests-toolbelt-1.0.0 roboflow-1.1.12 supervision-0.17.1\n"
          ]
        },
        {
          "output_type": "display_data",
          "data": {
            "application/vnd.colab-display-data+json": {
              "pip_warning": {
                "packages": [
                  "certifi",
                  "chardet",
                  "cv2",
                  "cycler",
                  "idna",
                  "pyparsing"
                ]
              }
            }
          },
          "metadata": {}
        }
      ]
    },
    {
      "cell_type": "markdown",
      "source": [
        "# Download datase from Roboflow"
      ],
      "metadata": {
        "id": "ytM6oNlJ3fl5"
      }
    },
    {
      "cell_type": "code",
      "source": [
        "  from roboflow import Roboflow\n",
        "  rf = Roboflow(api_key=\"oBkRYmxIVRFQKVIvhZVa\")\n",
        "  project = rf.workspace(\"segmentacion-iwaek\").project(\"medicinal_plants\")\n",
        "  dataset = project.version(15).download(\"yolov8\")"
      ],
      "metadata": {
        "colab": {
          "base_uri": "https://localhost:8080/"
        },
        "id": "VuUwqEAw3PZ7",
        "outputId": "36b30a39-578f-43ed-b73b-5bdbaf3b5683"
      },
      "execution_count": null,
      "outputs": [
        {
          "output_type": "stream",
          "name": "stdout",
          "text": [
            "loading Roboflow workspace...\n",
            "loading Roboflow project...\n",
            "Dependency ultralytics==8.0.196 is required but found version=8.0.225, to fix: `pip install ultralytics==8.0.196`\n"
          ]
        },
        {
          "output_type": "stream",
          "name": "stderr",
          "text": [
            "Downloading Dataset Version Zip in medicinal_plants-15 to yolov8:: 100%|██████████| 1911352/1911352 [00:46<00:00, 41182.90it/s]"
          ]
        },
        {
          "output_type": "stream",
          "name": "stdout",
          "text": [
            "\n"
          ]
        },
        {
          "output_type": "stream",
          "name": "stderr",
          "text": [
            "\n",
            "Extracting Dataset Version Zip to medicinal_plants-15 in yolov8:: 100%|██████████| 47678/47678 [00:17<00:00, 2655.83it/s]\n"
          ]
        }
      ]
    },
    {
      "cell_type": "markdown",
      "source": [
        "# Implements Albumentation"
      ],
      "metadata": {
        "id": "tOAh5PjC3pI-"
      }
    },
    {
      "cell_type": "code",
      "source": [
        "!pip install albumentations"
      ],
      "metadata": {
        "colab": {
          "base_uri": "https://localhost:8080/"
        },
        "id": "8yQIHIJV3bCP",
        "outputId": "563ef5e1-7624-48d2-a450-452ad2d4170d"
      },
      "execution_count": null,
      "outputs": [
        {
          "output_type": "stream",
          "name": "stdout",
          "text": [
            "Requirement already satisfied: albumentations in /usr/local/lib/python3.10/dist-packages (1.3.1)\n",
            "Requirement already satisfied: numpy>=1.11.1 in /usr/local/lib/python3.10/dist-packages (from albumentations) (1.23.5)\n",
            "Requirement already satisfied: scipy>=1.1.0 in /usr/local/lib/python3.10/dist-packages (from albumentations) (1.11.4)\n",
            "Requirement already satisfied: scikit-image>=0.16.1 in /usr/local/lib/python3.10/dist-packages (from albumentations) (0.19.3)\n",
            "Requirement already satisfied: PyYAML in /usr/local/lib/python3.10/dist-packages (from albumentations) (6.0.1)\n",
            "Requirement already satisfied: qudida>=0.0.4 in /usr/local/lib/python3.10/dist-packages (from albumentations) (0.0.4)\n",
            "Requirement already satisfied: opencv-python-headless>=4.1.1 in /usr/local/lib/python3.10/dist-packages (from albumentations) (4.8.0.74)\n",
            "Requirement already satisfied: scikit-learn>=0.19.1 in /usr/local/lib/python3.10/dist-packages (from qudida>=0.0.4->albumentations) (1.2.2)\n",
            "Requirement already satisfied: typing-extensions in /usr/local/lib/python3.10/dist-packages (from qudida>=0.0.4->albumentations) (4.5.0)\n",
            "Requirement already satisfied: networkx>=2.2 in /usr/local/lib/python3.10/dist-packages (from scikit-image>=0.16.1->albumentations) (3.2.1)\n",
            "Requirement already satisfied: pillow!=7.1.0,!=7.1.1,!=8.3.0,>=6.1.0 in /usr/local/lib/python3.10/dist-packages (from scikit-image>=0.16.1->albumentations) (9.4.0)\n",
            "Requirement already satisfied: imageio>=2.4.1 in /usr/local/lib/python3.10/dist-packages (from scikit-image>=0.16.1->albumentations) (2.31.6)\n",
            "Requirement already satisfied: tifffile>=2019.7.26 in /usr/local/lib/python3.10/dist-packages (from scikit-image>=0.16.1->albumentations) (2023.9.26)\n",
            "Requirement already satisfied: PyWavelets>=1.1.1 in /usr/local/lib/python3.10/dist-packages (from scikit-image>=0.16.1->albumentations) (1.5.0)\n",
            "Requirement already satisfied: packaging>=20.0 in /usr/local/lib/python3.10/dist-packages (from scikit-image>=0.16.1->albumentations) (23.2)\n",
            "Requirement already satisfied: joblib>=1.1.1 in /usr/local/lib/python3.10/dist-packages (from scikit-learn>=0.19.1->qudida>=0.0.4->albumentations) (1.3.2)\n",
            "Requirement already satisfied: threadpoolctl>=2.0.0 in /usr/local/lib/python3.10/dist-packages (from scikit-learn>=0.19.1->qudida>=0.0.4->albumentations) (3.2.0)\n"
          ]
        }
      ]
    },
    {
      "cell_type": "code",
      "source": [
        "import cv2\n",
        "import albumentations as A\n",
        "import os\n",
        "import shutil"
      ],
      "metadata": {
        "id": "PdEoDpQI3vjN"
      },
      "execution_count": null,
      "outputs": []
    },
    {
      "cell_type": "markdown",
      "source": [
        "# Data Augmentation for training data"
      ],
      "metadata": {
        "id": "NychpFr0392j"
      }
    },
    {
      "cell_type": "code",
      "source": [
        "import os\n",
        "image_root = '/content/medicinal_plants-15/train/images'\n",
        "labels_root = '/content/medicinal_plants-15/train/labels'\n",
        "\n",
        "a_images = '/content/medicinal_plants-15/train/images'\n",
        "a_labels = '/content/medicinal_plants-15/train/labels'"
      ],
      "metadata": {
        "id": "RoXUvcmo3xby"
      },
      "execution_count": null,
      "outputs": []
    },
    {
      "cell_type": "code",
      "source": [
        "# Obtener la lista de nombres de archivos en la carpeta de imágenes\n",
        "image_files = os.listdir(image_root)\n",
        "# Filtrar solo los archivos de imágenes\n",
        "image_files = [file for file in image_files if file.lower().endswith(('.jpg', '.jpeg'))]"
      ],
      "metadata": {
        "id": "IdWJmPFm31Sz"
      },
      "execution_count": null,
      "outputs": []
    },
    {
      "cell_type": "code",
      "source": [
        "image_files[:10] ,len(image_files)"
      ],
      "metadata": {
        "colab": {
          "base_uri": "https://localhost:8080/"
        },
        "id": "GYXTDDSI33WE",
        "outputId": "e6c5e842-4205-4106-e188-d884ace0e71b"
      },
      "execution_count": null,
      "outputs": [
        {
          "output_type": "execute_result",
          "data": {
            "text/plain": [
              "(['eucalipto184_jpg.rf.b8b2dd30d5e0217570f824569ca5e20f.jpg',\n",
              "  'IMG_20230925_151147_947_jpg.rf.ab1e642360c130a0884577201ae9693f.jpg',\n",
              "  'IMG_20230925_170046_388_jpg.rf.a2be2d70e461e98702818db6163d803d.jpg',\n",
              "  'malva16_jpg.rf.b43f2ead856c043b3849a0cdcf0548d6.jpg',\n",
              "  'manzanilla482_jpg.rf.de610c758e77ea905aa0f679ce9a05a6.jpg',\n",
              "  'IMG_20230921_150517_876_jpg.rf.c70bbaaa1cdbd84e9c4f7e5a925da0e1.jpg',\n",
              "  'IMG_20231202_125617_137_jpg.rf.69e36a770bb29e281f4279344f295bfd.jpg',\n",
              "  'IMG_20230921_080859_902_jpg.rf.20cd29dca8a6e186f0a27473d29eee9a.jpg',\n",
              "  'eucalipto856_jpg.rf.2291a80b1d3f98c9b29183aa1c42cf1b.jpg',\n",
              "  'eucalipto259_jpg.rf.47d8dbb3d59f07c1f1b222b36a93e6f4.jpg'],\n",
              " 21304)"
            ]
          },
          "metadata": {},
          "execution_count": 8
        }
      ]
    },
    {
      "cell_type": "code",
      "source": [
        "import os\n",
        "# reemplaza 'ruta_de_tu_carpeta' con la ruta de tu carpeta\n",
        "num_archivos = len(os.listdir('/content/medicinal_plants-15/train/images'))\n",
        "print('Número de archivos en la carpeta:', num_archivos)"
      ],
      "metadata": {
        "colab": {
          "base_uri": "https://localhost:8080/"
        },
        "id": "ylwajiE535na",
        "outputId": "fb70a2ff-5945-4c40-84dc-4abed914b7d5"
      },
      "execution_count": null,
      "outputs": [
        {
          "output_type": "stream",
          "name": "stdout",
          "text": [
            "Número de archivos en la carpeta: 21304\n"
          ]
        }
      ]
    },
    {
      "cell_type": "code",
      "source": [
        "# Loop over each file in the image directory\n",
        "for i, file in enumerate(image_files):\n",
        "    # Read the original image\n",
        "    image = cv2.imread(f\"{image_root}/{file}\")\n",
        "\n",
        "    # Define the transformation for both image and labels\n",
        "    transform = A.Compose([\n",
        "        A.RandomBrightnessContrast(p=1),\n",
        "        A.RandomGamma(p=1),\n",
        "        A.CLAHE(p=1),\n",
        "    ])\n",
        "\n",
        "    # Apply the transformation to the image and labels\n",
        "    augmented = transform(image=image)\n",
        "    t_image = augmented['image']\n",
        "\n",
        "    # Save the transformed image\n",
        "    cv2.imwrite(f'{a_images}/{file[:-4]}-shaper.jpg', t_image)\n",
        "\n",
        "    # Copy the corresponding text file to the new directory\n",
        "    shutil.copy(f'{labels_root}/{file[:-4]}.txt', f'{a_labels}/{file[:-4]}-shaper.txt')\n",
        "\n",
        "    # Define the transformation for both image and labels\n",
        "    transform = A.Compose([\n",
        "        A.ColorJitter(brightness=0.3, contrast=0.3, saturation=0.2, hue=0.2,p=0.5),\n",
        "        A.MotionBlur(blur_limit=33, p=0.1),\n",
        "        A.GaussNoise(var_limit=(0, 255), p=0.1)\n",
        "    ])\n",
        "\n",
        "    # Apply the transformation to the image and labels\n",
        "    augmented = transform(image=image)\n",
        "    t_image = augmented['image']\n",
        "\n",
        "    # Save the transformed image\n",
        "    cv2.imwrite(f'{a_images}/{file[:-4]}-Channel.jpg', t_image)\n",
        "    # Copy the corresponding text file to the new directory\n",
        "    shutil.copy(f'{labels_root}/{file[:-4]}.txt', f'{a_labels}/{file[:-4]}-Channel.txt')\n",
        "\n",
        "        # Define the transformation for both image and labels\n",
        "    transform = A.Compose([\n",
        "        A.CLAHE(p=1),\n",
        "        A.HueSaturationValue(hue_shift_limit=20, sat_shift_limit=50, val_shift_limit=50, p=1),\n",
        "    ])\n",
        "\n",
        "    # Apply the transformation to the image and labels\n",
        "    augmented = transform(image=image)\n",
        "    t_image = augmented['image']\n",
        "\n",
        "    # Save the transformed image\n",
        "    cv2.imwrite(f'{a_images}/{file[:-4]}-Multi.jpg', t_image)\n",
        "\n",
        "    # Copy the corresponding text file to the new directory\n",
        "    shutil.copy(f'{labels_root}/{file[:-4]}.txt', f'{a_labels}/{file[:-4]}-Multi.txt')"
      ],
      "metadata": {
        "id": "XQjAg96s38MM"
      },
      "execution_count": null,
      "outputs": []
    },
    {
      "cell_type": "code",
      "source": [
        "import os\n",
        "\n",
        "# reemplaza 'ruta_de_tu_carpeta' con la ruta de tu carpeta\n",
        "num_archivos = len(os.listdir('/content/medicinal_plants-15/train/images'))\n",
        "print('Número de Imagenes en la carpeta:', num_archivos)"
      ],
      "metadata": {
        "colab": {
          "base_uri": "https://localhost:8080/"
        },
        "id": "TNz-89iM4Psn",
        "outputId": "8ccd8dfd-6e3e-40c1-c435-a055f3f3e4d3"
      },
      "execution_count": null,
      "outputs": [
        {
          "output_type": "stream",
          "name": "stdout",
          "text": [
            "Número de Imagenes en la carpeta: 85216\n"
          ]
        }
      ]
    },
    {
      "cell_type": "code",
      "source": [
        "# reemplaza 'ruta_de_tu_carpeta' con la ruta de tu carpeta\n",
        "num_archivos = len(os.listdir('/content/medicinal_plants-15/train/labels'))\n",
        "print('Número de Labels en la carpeta:', num_archivos)"
      ],
      "metadata": {
        "colab": {
          "base_uri": "https://localhost:8080/"
        },
        "id": "PH_gLN4V4WZY",
        "outputId": "e5b0879c-2280-46f4-affc-1b77112ffaf7"
      },
      "execution_count": null,
      "outputs": [
        {
          "output_type": "stream",
          "name": "stdout",
          "text": [
            "Número de Labels en la carpeta: 85216\n"
          ]
        }
      ]
    },
    {
      "cell_type": "markdown",
      "source": [
        "# Data Augmentation for validate data"
      ],
      "metadata": {
        "id": "SCHx184D4atG"
      }
    },
    {
      "cell_type": "code",
      "source": [
        "# reemplaza 'ruta_de_tu_carpeta' con la ruta de tu carpeta\n",
        "num_archivos = len(os.listdir('/content/medicinal_plants-15/valid/images'))\n",
        "\n",
        "print('Número de Imagenes en la carpeta:', num_archivos)"
      ],
      "metadata": {
        "colab": {
          "base_uri": "https://localhost:8080/"
        },
        "id": "TWSL3G_A4cl9",
        "outputId": "048ab2e7-a02d-400b-cc5e-a83a49cdde81"
      },
      "execution_count": null,
      "outputs": [
        {
          "output_type": "stream",
          "name": "stdout",
          "text": [
            "Número de Imagenes en la carpeta: 1724\n"
          ]
        }
      ]
    },
    {
      "cell_type": "code",
      "source": [
        "image_root = '/content/medicinal_plants-15/valid/images'\n",
        "labels_root = '/content/medicinal_plants-15/valid/labels'\n",
        "\n",
        "a_images = '/content/medicinal_plants-15/valid/images'\n",
        "a_labels = '/content/medicinal_plants-15/valid/labels'"
      ],
      "metadata": {
        "id": "lGQnG9GV4iY4"
      },
      "execution_count": null,
      "outputs": []
    },
    {
      "cell_type": "code",
      "source": [
        "# Obtener la lista de nombres de archivos en la carpeta de imágenes\n",
        "image_files = os.listdir(image_root)\n",
        "# Filtrar solo los archivos de imágenes\n",
        "image_files = [file for file in image_files if file.lower().endswith(('.jpg', '.jpeg'))]"
      ],
      "metadata": {
        "id": "68DacUvI4mT-"
      },
      "execution_count": null,
      "outputs": []
    },
    {
      "cell_type": "code",
      "source": [
        "# Loop over each file in the image directory\n",
        "for i, file in enumerate(image_files):\n",
        "    # Read the original image\n",
        "    image = cv2.imread(f\"{image_root}/{file}\")\n",
        "\n",
        "    # Define the transformation for both image and labels\n",
        "    transform = A.Compose([\n",
        "        A.RandomBrightnessContrast(p=1),\n",
        "        A.RandomGamma(p=1),\n",
        "        A.CLAHE(p=1),\n",
        "    ])\n",
        "\n",
        "    # Apply the transformation to the image and labels\n",
        "    augmented = transform(image=image)\n",
        "    t_image = augmented['image']\n",
        "\n",
        "    # Save the transformed image\n",
        "    cv2.imwrite(f'{a_images}/{file[:-4]}-shaper.jpg', t_image)\n",
        "\n",
        "    # Copy the corresponding text file to the new directory\n",
        "    shutil.copy(f'{labels_root}/{file[:-4]}.txt', f'{a_labels}/{file[:-4]}-shaper.txt')\n",
        "\n",
        "    # Define the transformation for both image and labels\n",
        "    transform = A.Compose([\n",
        "        A.ColorJitter(brightness=0.3, contrast=0.3, saturation=0.2, hue=0.2,p=0.5),\n",
        "        A.MotionBlur(blur_limit=33, p=0.1),\n",
        "        A.GaussNoise(var_limit=(0, 255), p=0.1)\n",
        "    ])\n",
        "\n",
        "    # Apply the transformation to the image and labels\n",
        "    augmented = transform(image=image)\n",
        "    t_image = augmented['image']\n",
        "\n",
        "    # Save the transformed image\n",
        "    cv2.imwrite(f'{a_images}/{file[:-4]}-Channel.jpg', t_image)\n",
        "    # Copy the corresponding text file to the new directory\n",
        "    shutil.copy(f'{labels_root}/{file[:-4]}.txt', f'{a_labels}/{file[:-4]}-Channel.txt')\n",
        "\n",
        "        # Define the transformation for both image and labels\n",
        "    transform = A.Compose([\n",
        "        A.CLAHE(p=1),\n",
        "        A.HueSaturationValue(hue_shift_limit=20, sat_shift_limit=50, val_shift_limit=50, p=1),\n",
        "    ])\n",
        "\n",
        "    # Apply the transformation to the image and labels\n",
        "    augmented = transform(image=image)\n",
        "    t_image = augmented['image']\n",
        "\n",
        "    # Save the transformed image\n",
        "    cv2.imwrite(f'{a_images}/{file[:-4]}-Multi.jpg', t_image)\n",
        "\n",
        "    # Copy the corresponding text file to the new directory\n",
        "    shutil.copy(f'{labels_root}/{file[:-4]}.txt', f'{a_labels}/{file[:-4]}-Multi.txt')"
      ],
      "metadata": {
        "id": "FvDZDbXS4qdT"
      },
      "execution_count": null,
      "outputs": []
    },
    {
      "cell_type": "code",
      "source": [
        "# reemplaza 'ruta_de_tu_carpeta' con la ruta de tu carpeta\n",
        "num_archivos = len(os.listdir('/content/medicinal_plants-15/valid/images'))\n",
        "\n",
        "print('Número de Imagenes en la carpeta:', num_archivos)"
      ],
      "metadata": {
        "colab": {
          "base_uri": "https://localhost:8080/"
        },
        "id": "9yXssYLP4s2q",
        "outputId": "2b1f9646-fc8e-479b-ddc9-4de69399ecde"
      },
      "execution_count": null,
      "outputs": [
        {
          "output_type": "stream",
          "name": "stdout",
          "text": [
            "Número de Imagenes en la carpeta: 6896\n"
          ]
        }
      ]
    },
    {
      "cell_type": "markdown",
      "source": [
        "# Save dataset in kaggle"
      ],
      "metadata": {
        "id": "HbvYX2re6mTI"
      }
    },
    {
      "cell_type": "code",
      "source": [
        "!pip install kaggle"
      ],
      "metadata": {
        "colab": {
          "base_uri": "https://localhost:8080/"
        },
        "id": "--DMQR1U6ng6",
        "outputId": "fc05f527-33c2-439d-c08a-2f243427ce62"
      },
      "execution_count": null,
      "outputs": [
        {
          "output_type": "stream",
          "name": "stdout",
          "text": [
            "Requirement already satisfied: kaggle in /usr/local/lib/python3.10/dist-packages (1.5.16)\n",
            "Requirement already satisfied: six>=1.10 in /usr/local/lib/python3.10/dist-packages (from kaggle) (1.16.0)\n",
            "Requirement already satisfied: certifi in /usr/local/lib/python3.10/dist-packages (from kaggle) (2023.7.22)\n",
            "Requirement already satisfied: python-dateutil in /usr/local/lib/python3.10/dist-packages (from kaggle) (2.8.2)\n",
            "Requirement already satisfied: requests in /usr/local/lib/python3.10/dist-packages (from kaggle) (2.31.0)\n",
            "Requirement already satisfied: tqdm in /usr/local/lib/python3.10/dist-packages (from kaggle) (4.66.1)\n",
            "Requirement already satisfied: python-slugify in /usr/local/lib/python3.10/dist-packages (from kaggle) (8.0.1)\n",
            "Requirement already satisfied: urllib3 in /usr/local/lib/python3.10/dist-packages (from kaggle) (2.0.7)\n",
            "Requirement already satisfied: bleach in /usr/local/lib/python3.10/dist-packages (from kaggle) (6.1.0)\n",
            "Requirement already satisfied: webencodings in /usr/local/lib/python3.10/dist-packages (from bleach->kaggle) (0.5.1)\n",
            "Requirement already satisfied: text-unidecode>=1.3 in /usr/local/lib/python3.10/dist-packages (from python-slugify->kaggle) (1.3)\n",
            "Requirement already satisfied: charset-normalizer<4,>=2 in /usr/local/lib/python3.10/dist-packages (from requests->kaggle) (3.3.2)\n",
            "Requirement already satisfied: idna<4,>=2.5 in /usr/local/lib/python3.10/dist-packages (from requests->kaggle) (2.10)\n"
          ]
        }
      ]
    },
    {
      "cell_type": "code",
      "source": [
        "from google.colab import files\n",
        "#files.upload() # sube el archivo kaggle.json desde la máquina local\n",
        "!mkdir ~/.kaggle\n",
        "!cp kaggle.json ~/.kaggle/\n",
        "!chmod 600 ~/.kaggle/kaggle.json"
      ],
      "metadata": {
        "id": "_957nCDX6uIn"
      },
      "execution_count": null,
      "outputs": []
    },
    {
      "cell_type": "code",
      "source": [
        "import kaggle\n",
        "kaggle.api.authenticate()"
      ],
      "metadata": {
        "id": "7k51khox6xQv"
      },
      "execution_count": null,
      "outputs": []
    },
    {
      "cell_type": "code",
      "source": [
        "import json\n",
        "\n",
        "# crea un archivo JSON con los metadatos del conjunto de datos\n",
        "metadata = {\n",
        "  \"title\": \"medicinal_plants-15\",\n",
        "  \"id\": \"rodrigocolque/medicinal-plants-15\",  # Modificado el \"slug\"\n",
        "  \"licenses\": [\n",
        "    {\n",
        "      \"name\": \"CC0-1.0\"\n",
        "    }\n",
        "  ]\n",
        "}"
      ],
      "metadata": {
        "id": "8IeMBT2t60AG"
      },
      "execution_count": null,
      "outputs": []
    },
    {
      "cell_type": "code",
      "source": [
        "json_object =json.dumps(metadata, indent=4)\n",
        "with open(\"/content/medicinal_plants-15/dataset-metadata.json\", \"w\") as outfile:\n",
        "    outfile.write(json_object)"
      ],
      "metadata": {
        "id": "YGqFG6bJ64kQ"
      },
      "execution_count": null,
      "outputs": []
    },
    {
      "cell_type": "code",
      "source": [
        "!kaggle datasets create --public --dir-mode zip --path medicinal_plants-15"
      ],
      "metadata": {
        "colab": {
          "base_uri": "https://localhost:8080/"
        },
        "id": "9-Naz0-9667r",
        "outputId": "b8558f96-97b3-458f-b9f0-c4dbbb62c158"
      },
      "execution_count": null,
      "outputs": [
        {
          "output_type": "stream",
          "name": "stdout",
          "text": [
            "Starting upload for file train.zip\n",
            "100% 11.7G/11.7G [01:49<00:00, 115MB/s]\n",
            "Upload successful: train.zip (12GB)\n",
            "Starting upload for file valid.zip\n",
            "100% 944M/944M [00:09<00:00, 108MB/s]\n",
            "Upload successful: valid.zip (944MB)\n",
            "Starting upload for file README.roboflow.txt\n",
            "100% 1.20k/1.20k [00:00<00:00, 1.44kB/s]\n",
            "Upload successful: README.roboflow.txt (1KB)\n",
            "Starting upload for file README.dataset.txt\n",
            "100% 159/159 [00:00<00:00, 191B/s]  \n",
            "Upload successful: README.dataset.txt (159B)\n",
            "Starting upload for file test.zip\n",
            "100% 53.9M/53.9M [00:01<00:00, 47.6MB/s]\n",
            "Upload successful: test.zip (54MB)\n",
            "Starting upload for file data.yaml\n",
            "100% 393/393 [00:00<00:00, 652B/s]\n",
            "Upload successful: data.yaml (393B)\n",
            "Your public Dataset is being created. Please check progress at https://www.kaggle.com/datasets/rodrigocolque/medicinal-plants-15\n"
          ]
        }
      ]
    }
  ]
}